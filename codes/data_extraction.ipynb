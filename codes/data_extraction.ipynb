{
 "cells": [
  {
   "cell_type": "code",
   "execution_count": 4,
   "source": [
    "import pandas as pd\r\n",
    "import numpy as np"
   ],
   "outputs": [],
   "metadata": {}
  },
  {
   "cell_type": "code",
   "execution_count": null,
   "source": [
    "N_CLASSES = 14\r\n",
    "CLASS_NAMES = [\r\n",
    "        'Atelectasis', 'Cardiomegaly', 'Effusion', 'Infiltration', 'Mass', 'Nodule', 'Pneumonia', 'Pneumothorax',\r\n",
    "        'Consolidation', 'Edema', 'Emphysema', 'Fibrosis', 'Pleural_Thickening', 'Hernia', 'No Finding'\r\n",
    "                  ]\r\n",
    "train_df_path =\"../datas/train.csv\"\r\n",
    "train_df = pd.read_csv(train_df_path)"
   ],
   "outputs": [],
   "metadata": {}
  },
  {
   "cell_type": "code",
   "execution_count": 20,
   "source": [
    "label_col = train_df['Finding Labels']\r\n",
    "\r\n",
    "labeled_df = pd.DataFrame({},columns=train_df.columns)\r\n",
    "unlabeled_df = pd.DataFrame({},columns=train_df.columns)\r\n",
    "\r\n",
    "nof_count = 0\r\n",
    "single_count = 0\r\n",
    "double_count = 0\r\n",
    "\r\n",
    "for i in range(label_col.shape[0]):\r\n",
    "\r\n",
    "  if (nof_count + single_count + double_count == 4000):\r\n",
    "    unlabeled_df = unlabeled_df.append(train_df.iloc[i:])\r\n",
    "    break\r\n",
    "\r\n",
    "  label_str = label_col[i]\r\n",
    "  sel_idx = -1\r\n",
    "\r\n",
    "  if(isinstance(label_str, str)):\r\n",
    "    labels = label_str.split('|')\r\n",
    "    if(len(labels) == 1):\r\n",
    "      if(labels[0] == CLASS_NAMES[14] and nof_count <= 500):\r\n",
    "        labeled_df = labeled_df.append(train_df.iloc[i])\r\n",
    "        nof_count += 1\r\n",
    "\r\n",
    "      elif single_count <= 2000:\r\n",
    "        labeled_df = labeled_df.append(train_df.iloc[i])\r\n",
    "        single_count += 1\r\n",
    "      else:\r\n",
    "        unlabeled_df = unlabeled_df.append(train_df.iloc[i])\r\n",
    "\r\n",
    "    elif double_count <= 1500:\r\n",
    "      labeled_df = labeled_df.append(train_df.iloc[i])\r\n",
    "      double_count += 1\r\n",
    "    else:\r\n",
    "      unlabeled_df = unlabeled_df.append(train_df.iloc[i])\r\n",
    "\r\n",
    "\r\n"
   ],
   "outputs": [],
   "metadata": {}
  },
  {
   "cell_type": "code",
   "execution_count": 21,
   "source": [
    "unlabeled_df.head(5)\r\n",
    "labeled_df.to_csv('../datas/train_labeled.csv')\r\n",
    "unlabeled_df.to_csv('../datas/train_unlabeled.csv')\r\n"
   ],
   "outputs": [],
   "metadata": {}
  }
 ],
 "metadata": {
  "orig_nbformat": 4,
  "language_info": {
   "name": "python",
   "version": "3.7.9",
   "mimetype": "text/x-python",
   "codemirror_mode": {
    "name": "ipython",
    "version": 3
   },
   "pygments_lexer": "ipython3",
   "nbconvert_exporter": "python",
   "file_extension": ".py"
  },
  "kernelspec": {
   "name": "python3",
   "display_name": "Python 3.7.9 64-bit"
  },
  "interpreter": {
   "hash": "f2a606fc86d727d6901a90d3c9c69cc27007c7fd15fc5a22065c6c076d4dccc8"
  }
 },
 "nbformat": 4,
 "nbformat_minor": 2
}